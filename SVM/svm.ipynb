{
 "cells": [
  {
   "cell_type": "code",
   "execution_count": null,
   "id": "51ce3963-7083-46d9-8b95-a3d5da56cd64",
   "metadata": {},
   "outputs": [],
   "source": [
    "import pandas as pd\n",
    "from sklearn.datasets import load_iris\n",
    "iris=load_iris()"
   ]
  },
  {
   "cell_type": "code",
   "execution_count": null,
   "id": "566101b2-b81b-4892-8c2f-4663f24c23cd",
   "metadata": {},
   "outputs": [],
   "source": [
    "dir(iris)"
   ]
  },
  {
   "cell_type": "code",
   "execution_count": null,
   "id": "d061cdb1-ccb6-4f08-9d82-a1c4a6945400",
   "metadata": {},
   "outputs": [],
   "source": [
    "iris.feature_names"
   ]
  },
  {
   "cell_type": "code",
   "execution_count": null,
   "id": "d0476279-0975-4343-a209-c6376a9bc06c",
   "metadata": {},
   "outputs": [],
   "source": [
    "df=pd.DataFrame(iris.data,columns=iris.feature_names)\n",
    "df.head()"
   ]
  },
  {
   "cell_type": "code",
   "execution_count": null,
   "id": "4ecf967a-00cd-44f2-99ee-abaef4225e4b",
   "metadata": {},
   "outputs": [],
   "source": [
    "df['target']=iris.target\n",
    "df.head()"
   ]
  },
  {
   "cell_type": "code",
   "execution_count": null,
   "id": "a04dd82c-a244-4af5-8e52-c4e087a46d7e",
   "metadata": {},
   "outputs": [],
   "source": [
    "iris.target_names"
   ]
  },
  {
   "cell_type": "code",
   "execution_count": null,
   "id": "19ac2127-fe45-42e7-8aa9-fb68cd581c65",
   "metadata": {},
   "outputs": [],
   "source": [
    "df[df.target==1].head()"
   ]
  },
  {
   "cell_type": "code",
   "execution_count": null,
   "id": "efb404c8-41af-48f2-bfd8-8c0bd86877a3",
   "metadata": {},
   "outputs": [],
   "source": [
    "df[df.target==2].head()"
   ]
  },
  {
   "cell_type": "code",
   "execution_count": null,
   "id": "0571c9e8-ba92-4810-9e52-56bdf7131c62",
   "metadata": {},
   "outputs": [],
   "source": [
    "df['flower_names']=df.target.apply(lambda x:iris.target_names[x])\n",
    "\n",
    "'''\n",
    "flower_names = []\n",
    "\n",
    "# Loop through each target label\n",
    "for label in df['target']:\n",
    "    # Convert number to flower name and add to the list\n",
    "    flower_names.append(iris.target_names[label])\n",
    "\n",
    "# Add the flower names list as a new column\n",
    "df['flower_name'] = flower_names\n",
    "'''"
   ]
  },
  {
   "cell_type": "code",
   "execution_count": null,
   "id": "909e4e5e-4604-422f-a5eb-03e21018508b",
   "metadata": {},
   "outputs": [],
   "source": [
    "df.flower_names"
   ]
  },
  {
   "cell_type": "code",
   "execution_count": null,
   "id": "a5e39f3c-08e9-45ea-8fe6-3e00f2d31a56",
   "metadata": {},
   "outputs": [],
   "source": [
    "df.head()"
   ]
  },
  {
   "cell_type": "code",
   "execution_count": null,
   "id": "f7ad973b-b7df-4c1f-9edb-1221cdf3e469",
   "metadata": {},
   "outputs": [],
   "source": [
    "import matplotlib.pyplot as plt\n",
    "%matplotlib inline"
   ]
  },
  {
   "cell_type": "code",
   "execution_count": null,
   "id": "588de6ef-20c9-4e94-b529-5d85c139df75",
   "metadata": {},
   "outputs": [],
   "source": [
    "df0=df[df.target==0]\n",
    "df1=df[df.target==1]\n",
    "df2=df[df.target==2]\n"
   ]
  },
  {
   "cell_type": "code",
   "execution_count": null,
   "id": "1dcfb430-5b6c-4444-8249-397a4cd4c68d",
   "metadata": {},
   "outputs": [],
   "source": [
    "df1.head()"
   ]
  },
  {
   "cell_type": "code",
   "execution_count": null,
   "id": "05fba2be-780d-4431-b9fc-9dd4b483055f",
   "metadata": {},
   "outputs": [],
   "source": [
    "df2.head()"
   ]
  },
  {
   "cell_type": "code",
   "execution_count": null,
   "id": "8d2c614a-64ba-411b-9963-0196e0942b0c",
   "metadata": {},
   "outputs": [],
   "source": [
    "plt.scatter(df0['petal length (cm)'],df1['sepal length (cm)'],color='green',marker='+')\n",
    "plt.xlabel('Setosa Sepal Length (cm)')\n",
    "plt.ylabel('Versicolor Sepal Length (cm)')\n",
    "plt.title('Scatter Plot: Setosa vs Versicolor Sepal Length')\n",
    "plt.savefig('plot.png')\n",
    "plt.show()"
   ]
  },
  {
   "cell_type": "code",
   "execution_count": null,
   "id": "2f5608c0-95b8-4e3c-a199-7a463b58fa1d",
   "metadata": {},
   "outputs": [],
   "source": [
    "plt.scatter(df0['sepal length (cm)'],df0['sepal width (cm)'],color='green',marker='+',label='Setosa')\n",
    "plt.scatter(df1['sepal length (cm)'],df1['sepal width (cm)'],color='blue',marker='.',label='Versicolor')\n",
    "plt.scatter(df2['sepal length (cm)'],df2['sepal width (cm)'],color='red',marker='o',label='Virginica')\n",
    "plt.xlabel('speal length(cm)')\n",
    "plt.ylabel('speal width(cm)')\n",
    "plt.title('sepal length vs sepal width')\n",
    "plt.legend()\n",
    "plt.savefig('Sepal_plot.png')\n",
    "\n",
    "plt.show()"
   ]
  },
  {
   "cell_type": "code",
   "execution_count": null,
   "id": "2cc8c93d-ee15-4b4d-96c8-735948aee842",
   "metadata": {},
   "outputs": [],
   "source": [
    "plt.scatter(df0['petal length (cm)'],df0['petal width (cm)'],color='green',marker='+',label='Setosa')\n",
    "plt.scatter(df1['petal length (cm)'],df1['petal width (cm)'],color='blue',marker='.',label='Versicolor')\n",
    "plt.scatter(df2['petal length (cm)'],df2['petal width (cm)'],color='red',marker='o',label='Virginica')\n",
    "plt.xlabel('petal length(cm)')\n",
    "plt.ylabel('petal width (cm)')\n",
    "plt.title('petal length vs petal width')\n",
    "plt.legend()\n",
    "plt.savefig('Petal_plot.png')\n",
    "\n",
    "plt.show()"
   ]
  },
  {
   "cell_type": "code",
   "execution_count": null,
   "id": "0edb98aa-bc8b-4b74-935f-0b1a6b2a2a28",
   "metadata": {},
   "outputs": [],
   "source": [
    "from sklearn.model_selection import train_test_split"
   ]
  },
  {
   "cell_type": "code",
   "execution_count": null,
   "id": "e3838a1b-09db-4d67-9a90-52a5833bba0f",
   "metadata": {},
   "outputs": [],
   "source": [
    "x=df.drop(['target','flower_names'],axis='columns')\n",
    "x.head()"
   ]
  },
  {
   "cell_type": "code",
   "execution_count": null,
   "id": "6bb288a1-0fbf-4d7d-87fa-09b4a66ab5f5",
   "metadata": {},
   "outputs": [],
   "source": [
    "y=df.target"
   ]
  },
  {
   "cell_type": "code",
   "execution_count": null,
   "id": "88bfb80e-2ee4-4688-928e-b0ecff5b3c28",
   "metadata": {},
   "outputs": [],
   "source": [
    "X_train, X_test, y_train, y_test = train_test_split(x,y,test_size=0.2)"
   ]
  },
  {
   "cell_type": "code",
   "execution_count": null,
   "id": "acc69aef-486e-4b4d-bdaf-2dfe9df430e7",
   "metadata": {},
   "outputs": [],
   "source": [
    "from sklearn.svm import SVC\n",
    "model=SVC()"
   ]
  },
  {
   "cell_type": "code",
   "execution_count": null,
   "id": "a36ad436-5283-42f0-80b2-cde6c163fe11",
   "metadata": {},
   "outputs": [],
   "source": [
    "model.fit(X_train,y_train)"
   ]
  },
  {
   "cell_type": "code",
   "execution_count": null,
   "id": "09322c9f-5367-401b-b4d7-83119f50c767",
   "metadata": {},
   "outputs": [],
   "source": [
    "model.score(X_test,y_test)"
   ]
  },
  {
   "cell_type": "code",
   "execution_count": null,
   "id": "672acaa3-fbb6-4e20-af63-d7d228c856f1",
   "metadata": {},
   "outputs": [],
   "source": [
    "model=SVC(gamma=10)\n",
    "model.fit(X_train,y_train)\n",
    "model.score(X_test,y_test)"
   ]
  },
  {
   "cell_type": "code",
   "execution_count": null,
   "id": "0d06015e-d5b2-4904-9664-def853eb629f",
   "metadata": {},
   "outputs": [],
   "source": [
    "model=SVC(gamma=100)\n",
    "model.fit(X_train,y_train)\n",
    "model.score(X_test,y_test)"
   ]
  },
  {
   "cell_type": "code",
   "execution_count": null,
   "id": "6e11ce35-6256-48e6-b55a-6ea23c9e0105",
   "metadata": {},
   "outputs": [],
   "source": [
    "model=SVC(gamma=100)\n",
    "model.fit(X_train,y_train)\n",
    "model.score(X_test,y_test)"
   ]
  },
  {
   "cell_type": "code",
   "execution_count": null,
   "id": "d9bcaaac-4c07-4f76-a066-4b4cfaa50318",
   "metadata": {},
   "outputs": [],
   "source": [
    "model=SVC(kernel='rbf')\n",
    "model.fit(X_train,y_train)\n",
    "model.score(X_test,y_test)"
   ]
  },
  {
   "cell_type": "code",
   "execution_count": null,
   "id": "5357b160-1951-4c8a-9052-933412cf96c7",
   "metadata": {},
   "outputs": [],
   "source": [
    "model=SVC(kernel='linear')\n",
    "model.fit(X_train,y_train)\n",
    "model.score(X_test,y_test)"
   ]
  }
 ],
 "metadata": {
  "kernelspec": {
   "display_name": "Python 3 (ipykernel)",
   "language": "python",
   "name": "python3"
  },
  "language_info": {
   "codemirror_mode": {
    "name": "ipython",
    "version": 3
   },
   "file_extension": ".py",
   "mimetype": "text/x-python",
   "name": "python",
   "nbconvert_exporter": "python",
   "pygments_lexer": "ipython3",
   "version": "3.12.7"
  }
 },
 "nbformat": 4,
 "nbformat_minor": 5
}
