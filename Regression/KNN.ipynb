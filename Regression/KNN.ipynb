{
 "cells": [
  {
   "cell_type": "code",
   "execution_count": null,
   "id": "9afd6d62-b812-4412-a853-64e10a8202ef",
   "metadata": {},
   "outputs": [],
   "source": [
    "from sklearn import datasets\n",
    "from sklearn.neighbors import KNeighborsClassifier\n",
    "\n",
    "iris=datasets.load_iris()\n",
    "print(iris.DESCR)\n",
    "\n",
    "features=iris.data #taking inputs\n",
    "labels=iris.target #taking outputs\n"
   ]
  },
  {
   "cell_type": "code",
   "execution_count": null,
   "id": "c4aea116-0248-421c-b133-1a53fd3b7249",
   "metadata": {},
   "outputs": [],
   "source": [
    "iris=datasets.load_iris()"
   ]
  },
  {
   "cell_type": "code",
   "execution_count": null,
   "id": "99faf962-40bc-4332-a033-788b2472e1bf",
   "metadata": {},
   "outputs": [],
   "source": [
    "iris.data.shape"
   ]
  },
  {
   "cell_type": "code",
   "execution_count": null,
   "id": "81aca2af-321f-4d51-a3b5-31e79e3d22cd",
   "metadata": {},
   "outputs": [],
   "source": [
    "iris.target.shape"
   ]
  },
  {
   "cell_type": "code",
   "execution_count": null,
   "id": "7771e42a-de0f-4d18-bc4f-c7d258a33a53",
   "metadata": {},
   "outputs": [],
   "source": [
    "print(features[0],labels[0])"
   ]
  },
  {
   "cell_type": "code",
   "execution_count": null,
   "id": "cf520da2-febc-4af4-a20f-5b3ed90819d9",
   "metadata": {},
   "outputs": [],
   "source": [
    "print(features[149],labels[149])"
   ]
  },
  {
   "cell_type": "code",
   "execution_count": null,
   "id": "c53e4e71-442f-427f-86fe-e5e32801b330",
   "metadata": {},
   "outputs": [],
   "source": [
    "print(features[5],labels[5])"
   ]
  },
  {
   "cell_type": "code",
   "execution_count": null,
   "id": "fb929354-7a45-4a0d-a3d0-c5ed4ef86e09",
   "metadata": {},
   "outputs": [],
   "source": [
    "'''\n",
    "| Sample | Features              | Label |\n",
    "| ------ | --------------------- | ----- |\n",
    "| #1     | \\[5.1, 3.5, 1.4, 0.2] | 0     |\n",
    "| #2     | \\[4.9, 3.0, 1.4, 0.2] | 0     |\n",
    "| #3     | \\[4.7, 3.2, 1.3, 0.2] | 0     |\n",
    "| ...    | ...                   | ...   |\n",
    "| #150   | \\[5.9, 3.0, 5.1, 1.8] | 2     |\n",
    "\n",
    "'''\n"
   ]
  },
  {
   "cell_type": "code",
   "execution_count": null,
   "id": "7703c1a4-c6c9-402f-b2d2-90d897134230",
   "metadata": {},
   "outputs": [],
   "source": [
    "#training the classifier\n",
    "\n",
    "clf=KNeighborsClassifier()\n",
    "clf.fit(features,labels)\n",
    "\n",
    "predictions=clf.predict([[3.1,1,1,1]])\n",
    "print(predictions)"
   ]
  },
  {
   "cell_type": "code",
   "execution_count": null,
   "id": "c35136b9-fe27-48f6-bcbd-2a2f75defd87",
   "metadata": {},
   "outputs": [],
   "source": [
    "predictions=clf.predict([[3.1,10,1,1]])\n",
    "print(predictions)"
   ]
  }
 ],
 "metadata": {
  "kernelspec": {
   "display_name": "Python 3 (ipykernel)",
   "language": "python",
   "name": "python3"
  },
  "language_info": {
   "codemirror_mode": {
    "name": "ipython",
    "version": 3
   },
   "file_extension": ".py",
   "mimetype": "text/x-python",
   "name": "python",
   "nbconvert_exporter": "python",
   "pygments_lexer": "ipython3",
   "version": "3.12.7"
  }
 },
 "nbformat": 4,
 "nbformat_minor": 5
}
