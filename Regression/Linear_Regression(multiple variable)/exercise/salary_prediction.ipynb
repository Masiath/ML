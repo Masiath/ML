{
 "cells": [
  {
   "cell_type": "code",
   "execution_count": null,
   "id": "4ed9b980-4c63-4935-9c4b-a2280ec44ba2",
   "metadata": {},
   "outputs": [],
   "source": [
    "import pandas as pd\n",
    "import numpy as np\n",
    "from sklearn import linear_model\n",
    "from word2number import w2n\n",
    "import matplotlib.pyplot as plt\n",
    "import math"
   ]
  },
  {
   "cell_type": "code",
   "execution_count": null,
   "id": "48b47d9f-21b1-4de8-99c9-180abe34ad52",
   "metadata": {},
   "outputs": [],
   "source": [
    "d = pd.read_csv(\"hiring.csv\")\n",
    "d"
   ]
  },
  {
   "cell_type": "code",
   "execution_count": null,
   "id": "e39ee48c-1b33-41b4-8dcb-5e8fd51ba5b8",
   "metadata": {},
   "outputs": [],
   "source": [
    "d.experience = d.experience.fillna(\"zero\")\n",
    "d"
   ]
  },
  {
   "cell_type": "code",
   "execution_count": null,
   "id": "e98678f2-9eaa-4ebd-93cc-03dcc29e9b7d",
   "metadata": {},
   "outputs": [],
   "source": [
    "d.experience = d.experience.apply(w2n.word_to_num)\n",
    "d"
   ]
  },
  {
   "cell_type": "code",
   "execution_count": null,
   "id": "d03e955a-a5a2-4bef-8f87-ad80525e7df0",
   "metadata": {},
   "outputs": [],
   "source": [
    "median_test_score = math.floor(d['test_score(out of 10)'].mean())\n",
    "median_test_score"
   ]
  },
  {
   "cell_type": "code",
   "execution_count": null,
   "id": "eb147459-b04a-491d-9596-a2763fa21f4f",
   "metadata": {},
   "outputs": [],
   "source": [
    "d['test_score(out of 10)'] = d['test_score(out of 10)'].fillna(median_test_score)\n",
    "d"
   ]
  },
  {
   "cell_type": "code",
   "execution_count": null,
   "id": "3d2ff2ab-6a1f-4881-86ad-fc475fa3bc00",
   "metadata": {},
   "outputs": [],
   "source": [
    "reg = linear_model.LinearRegression()\n",
    "reg.fit(d[['experience','test_score(out of 10)','interview_score(out of 10)']],d['salary($)'])"
   ]
  },
  {
   "cell_type": "code",
   "execution_count": null,
   "id": "a0f77cb3-15b1-4553-a605-4745d1d9fe28",
   "metadata": {},
   "outputs": [],
   "source": [
    "reg.coef_"
   ]
  },
  {
   "cell_type": "code",
   "execution_count": null,
   "id": "39588e6a-5ba5-4850-9d09-ae1df18763a2",
   "metadata": {},
   "outputs": [],
   "source": [
    "reg.intercept_"
   ]
  },
  {
   "cell_type": "code",
   "execution_count": null,
   "id": "7fcbbb80-51e4-4382-b56e-0e3a658364df",
   "metadata": {},
   "outputs": [],
   "source": [
    "reg.predict([[2,9,6]])"
   ]
  },
  {
   "cell_type": "code",
   "execution_count": null,
   "id": "49c1f205-bf0d-439f-8da1-8b4e80700c8b",
   "metadata": {},
   "outputs": [],
   "source": [
    "reg.predict([[12,10,10]])"
   ]
  },
  {
   "cell_type": "code",
   "execution_count": null,
   "id": "b20fb89c-0291-48bb-b5f3-4eaaa381523b",
   "metadata": {},
   "outputs": [],
   "source": [
    "predicted_prices = reg.predict(d[['experience','test_score(out of 10)','interview_score(out of 10)']])\n"
   ]
  },
  {
   "cell_type": "code",
   "execution_count": null,
   "id": "d6f58324-bdee-475b-9f9a-600cb4cff930",
   "metadata": {},
   "outputs": [],
   "source": [
    "predicted_salary = reg.predict(d[['experience', 'test_score(out of 10)', 'interview_score(out of 10)']])\n",
    "\n",
    "# Plot Actual vs Predicted Salary ($)\n",
    "plt.figure(figsize=(8, 5))\n",
    "plt.scatter(d['salary($)'], predicted_salary, color='blue', label=\"Predicted Salary ($)\", marker='o')\n",
    "plt.plot([d['salary($)'].min(), d['salary($)'].max()],\n",
    "         [d['salary($)'].min(), d['salary($)'].max()],\n",
    "         color='red', linewidth=2, label=\"Perfect Prediction Line\")\n",
    "plt.xlabel(\"Actual Salary ($)\")\n",
    "plt.ylabel(\"Predicted Salary ($)\")\n",
    "plt.title(\"Actual vs Predicted Salary ($)\")\n",
    "plt.legend()\n",
    "plt.grid(True)\n",
    "plt.tight_layout()\n",
    "plt.show()"
   ]
  },
  {
   "cell_type": "code",
   "execution_count": null,
   "id": "8834fb61-156e-4aba-a360-70c3398ed863",
   "metadata": {},
   "outputs": [],
   "source": []
  }
 ],
 "metadata": {
  "kernelspec": {
   "display_name": "Python 3 (ipykernel)",
   "language": "python",
   "name": "python3"
  },
  "language_info": {
   "codemirror_mode": {
    "name": "ipython",
    "version": 3
   },
   "file_extension": ".py",
   "mimetype": "text/x-python",
   "name": "python",
   "nbconvert_exporter": "python",
   "pygments_lexer": "ipython3",
   "version": "3.12.7"
  }
 },
 "nbformat": 4,
 "nbformat_minor": 5
}
