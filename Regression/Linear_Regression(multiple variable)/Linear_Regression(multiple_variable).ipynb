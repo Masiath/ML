{
 "cells": [
  {
   "cell_type": "code",
   "execution_count": null,
   "id": "a493e192-987d-4e29-a79f-12cb8289cf36",
   "metadata": {},
   "outputs": [],
   "source": [
    "import pandas as pd\n",
    "import numpy as np\n",
    "from sklearn import linear_model\n",
    "import matplotlib.pyplot as plt"
   ]
  },
  {
   "cell_type": "code",
   "execution_count": null,
   "id": "a7e56e96-c47a-4046-9c9f-8246c082bb08",
   "metadata": {},
   "outputs": [],
   "source": [
    "df=pd.read_csv(\"Homeprices.csv\")"
   ]
  },
  {
   "cell_type": "code",
   "execution_count": null,
   "id": "049daa13-1b58-4219-bbd0-754b17c43805",
   "metadata": {},
   "outputs": [],
   "source": [
    "df"
   ]
  },
  {
   "cell_type": "code",
   "execution_count": null,
   "id": "93fdf56c-914f-42c6-9f36-7d373cf5a6e4",
   "metadata": {},
   "outputs": [],
   "source": [
    "#bedrooms of '3' is unavailable,so take median off all the bedroom\n",
    "#bedroom cant be fraction ,so make it integer\n",
    "\n",
    "import math\n",
    "\n",
    "median_bedrooms=math.floor(df.bedrooms.median())\n",
    "median_bedrooms"
   ]
  },
  {
   "cell_type": "code",
   "execution_count": null,
   "id": "abea30a6-1fa1-4124-b625-3822595cfd22",
   "metadata": {},
   "outputs": [],
   "source": [
    "df.bedrooms = df.bedrooms.fillna(median_bedrooms)\n",
    "df"
   ]
  },
  {
   "cell_type": "code",
   "execution_count": null,
   "id": "7de51e36-7e91-4490-8491-c68aab16ab81",
   "metadata": {},
   "outputs": [],
   "source": [
    "reg=linear_model.LinearRegression()"
   ]
  },
  {
   "cell_type": "code",
   "execution_count": null,
   "id": "1ab7fe08-6e0e-4369-b3a0-9abb67381576",
   "metadata": {},
   "outputs": [],
   "source": [
    "reg.fit(df[['area','bedrooms','age']],df.price)"
   ]
  },
  {
   "cell_type": "code",
   "execution_count": null,
   "id": "8f4ca68f-b16f-42d5-959f-ba806f07c407",
   "metadata": {},
   "outputs": [],
   "source": [
    "reg.coef_"
   ]
  },
  {
   "cell_type": "code",
   "execution_count": null,
   "id": "7dbb7247-f588-4592-b01f-f3ebd065cb8b",
   "metadata": {},
   "outputs": [],
   "source": [
    "reg.intercept_"
   ]
  },
  {
   "cell_type": "code",
   "execution_count": null,
   "id": "b4684d3b-d7c5-410c-ab98-8f2b7dd7a355",
   "metadata": {},
   "outputs": [],
   "source": [
    "reg.predict([[3000,3,40]])"
   ]
  },
  {
   "cell_type": "code",
   "execution_count": null,
   "id": "ebde614e-bb42-4f4e-b2ab-dada4a11b76d",
   "metadata": {},
   "outputs": [],
   "source": [
    "predicted_prices = reg.predict(df[['area', 'bedrooms', 'age']])"
   ]
  },
  {
   "cell_type": "code",
   "execution_count": null,
   "id": "3342c29f-7370-40e0-b600-2dacef749ea2",
   "metadata": {},
   "outputs": [],
   "source": [
    "plt.figure(figsize=(8, 5))\n",
    "plt.scatter(df.price, predicted_prices, color='blue', marker='o',label='predicted')\n",
    "plt.plot([df.price.min(), df.price.max()], [df.price.min(), df.price.max()], color='red', linewidth=2,label='Perfect Prediction Line')\n",
    "plt.xlabel(\"Actual Price\")\n",
    "plt.ylabel(\"Predicted Price\")\n",
    "plt.title(\"Actual Price vs Predicted Price\")\n",
    "plt.grid(True)\n",
    "plt.legend() \n",
    "plt.tight_layout()\n",
    "plt.show()"
   ]
  },
  {
   "cell_type": "code",
   "execution_count": null,
   "id": "d08ff2d2-7054-4b34-8cb0-bc15301ad52d",
   "metadata": {},
   "outputs": [],
   "source": []
  }
 ],
 "metadata": {
  "kernelspec": {
   "display_name": "Python 3 (ipykernel)",
   "language": "python",
   "name": "python3"
  },
  "language_info": {
   "codemirror_mode": {
    "name": "ipython",
    "version": 3
   },
   "file_extension": ".py",
   "mimetype": "text/x-python",
   "name": "python",
   "nbconvert_exporter": "python",
   "pygments_lexer": "ipython3",
   "version": "3.12.7"
  }
 },
 "nbformat": 4,
 "nbformat_minor": 5
}
