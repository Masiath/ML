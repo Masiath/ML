{
 "cells": [
  {
   "cell_type": "code",
   "execution_count": null,
   "id": "a814bced-5413-464b-98fb-5bf933746bf1",
   "metadata": {},
   "outputs": [],
   "source": [
    "import pandas as pd\n",
    "import numpy as np\n",
    "import matplotlib.pyplot as plt\n",
    "from sklearn import linear_model"
   ]
  },
  {
   "cell_type": "code",
   "execution_count": null,
   "id": "b3dd635c-ea6e-4d88-b192-8556ffecdfa0",
   "metadata": {},
   "outputs": [],
   "source": [
    "df=pd.read_csv(\"C:\\\\Users\\\\ASUS\\\\Downloads\\\\homeprices.csv\")\n",
    "df"
   ]
  },
  {
   "cell_type": "code",
   "execution_count": null,
   "id": "01b7ee1b-7f84-4ff0-85cc-21830f70fe84",
   "metadata": {},
   "outputs": [],
   "source": [
    "%matplotlib inline\n",
    "plt.scatter(df.area,df.price,color='red',marker='+')\n",
    "plt.xlabel('area(sq ft)')\n",
    "plt.ylabel('price(US$)')\n",
    "plt.title('Area vs Price')\n",
    "plt.show()"
   ]
  },
  {
   "cell_type": "code",
   "execution_count": null,
   "id": "43da12d5-a29c-4a78-884c-0794edc94cfe",
   "metadata": {},
   "outputs": [],
   "source": [
    "#train data\n",
    "\n",
    "reg=linear_model.LinearRegression()\n",
    "reg.fit(df[['area']],df.price)\n",
    "\n",
    "#df[['area']] → 2D DataFrame → correct format for model training\n"
   ]
  },
  {
   "cell_type": "code",
   "execution_count": null,
   "id": "bc2c79ef-46a4-4c95-99b0-193c07b4014b",
   "metadata": {},
   "outputs": [],
   "source": [
    "#predict data\n",
    "reg.predict([[3300]])\n"
   ]
  },
  {
   "cell_type": "code",
   "execution_count": null,
   "id": "458cf551-8d59-4633-a383-f782750318dd",
   "metadata": {},
   "outputs": [],
   "source": [
    "reg.coef_"
   ]
  },
  {
   "cell_type": "code",
   "execution_count": null,
   "id": "bb647b93-2893-4291-afcc-9185e0e14a9e",
   "metadata": {},
   "outputs": [],
   "source": [
    "reg.intercept_"
   ]
  },
  {
   "cell_type": "code",
   "execution_count": null,
   "id": "5686e8f2-770b-411a-bb03-590fde09efd8",
   "metadata": {},
   "outputs": [],
   "source": [
    "\n",
    "135.78767123*3300+180616.43835616432"
   ]
  },
  {
   "cell_type": "code",
   "execution_count": null,
   "id": "1fc51f9a-20e0-426c-abb8-0b84d5f1d9ff",
   "metadata": {},
   "outputs": [],
   "source": [
    "%matplotlib inline\n",
    "plt.xlabel('area',fontsize=15)\n",
    "plt.ylabel('price',fontsize=15)\n",
    "plt.scatter(df.area,df.price,color='red',marker='+',label='Actual Price')\n",
    "plt.plot(df.area,reg.predict(df[['area']]),color='blue',label='Prediction Line')\n",
    "\n",
    "plt.legend(fontsize=15)\n",
    "\n",
    "plt.title('House Price Prediction')\n",
    "plt.grid(True)\n",
    "plt.show()"
   ]
  },
  {
   "cell_type": "code",
   "execution_count": null,
   "id": "0376ff9d-1a0d-4212-b254-4a1863775f14",
   "metadata": {},
   "outputs": [],
   "source": [
    "d=pd.read_csv(\"C:\\\\Users\\\\ASUS\\\\Downloads\\\\areas.csv\")\n",
    "d"
   ]
  },
  {
   "cell_type": "code",
   "execution_count": null,
   "id": "16c0fd74-e049-4c14-b5a8-56bc1fcd93ae",
   "metadata": {},
   "outputs": [],
   "source": [
    "p=reg.predict(d)"
   ]
  },
  {
   "cell_type": "code",
   "execution_count": null,
   "id": "89b8340d-4401-4e80-b88b-7746d8c56fc3",
   "metadata": {},
   "outputs": [],
   "source": [
    "#add 'price' column in 'area' file\n",
    "d['prices']=p"
   ]
  },
  {
   "cell_type": "code",
   "execution_count": null,
   "id": "c92b1575-ef53-4c5b-b148-b799f4dd702a",
   "metadata": {},
   "outputs": [],
   "source": [
    "d"
   ]
  },
  {
   "cell_type": "code",
   "execution_count": null,
   "id": "8d0cd474-614c-4efb-a738-02f9dee511d8",
   "metadata": {},
   "outputs": [],
   "source": [
    "d.to_csv(\"prediction.csv\",index=False)"
   ]
  },
  {
   "cell_type": "code",
   "execution_count": null,
   "id": "f571c228-7a6f-4f57-b2f5-c6ccb1995778",
   "metadata": {},
   "outputs": [],
   "source": []
  }
 ],
 "metadata": {
  "kernelspec": {
   "display_name": "Python 3 (ipykernel)",
   "language": "python",
   "name": "python3"
  },
  "language_info": {
   "codemirror_mode": {
    "name": "ipython",
    "version": 3
   },
   "file_extension": ".py",
   "mimetype": "text/x-python",
   "name": "python",
   "nbconvert_exporter": "python",
   "pygments_lexer": "ipython3",
   "version": "3.12.7"
  }
 },
 "nbformat": 4,
 "nbformat_minor": 5
}
