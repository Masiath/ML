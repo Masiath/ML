{
 "cells": [
  {
   "cell_type": "code",
   "execution_count": null,
   "id": "efd80945-f7e1-44fc-bba2-409301702a80",
   "metadata": {},
   "outputs": [],
   "source": [
    "import matplotlib.pyplot as plt\n",
    "import numpy as np\n",
    "from sklearn import datasets,linear_model\n",
    "from sklearn.metrics import mean_squared_error"
   ]
  },
  {
   "cell_type": "code",
   "execution_count": null,
   "id": "cae347df-e87a-4da3-be31-7fa9b29cb813",
   "metadata": {},
   "outputs": [],
   "source": [
    "diabetes=datasets.load_diabetes()\n"
   ]
  },
  {
   "cell_type": "code",
   "execution_count": null,
   "id": "447e6271-079c-463c-a4f6-c0c8a4dd6cfa",
   "metadata": {},
   "outputs": [],
   "source": [
    "diabetes_x=diabetes.data"
   ]
  },
  {
   "cell_type": "code",
   "execution_count": null,
   "id": "df89c7f9-e095-48ce-92b8-beab9c4ebf47",
   "metadata": {},
   "outputs": [],
   "source": [
    "x_train=diabetes_x[ :-30]\n",
    "x_test=diabetes_x[-30: ]\n",
    "\n",
    "y_train=diabetes.target[:-30]\n",
    "y_test=diabetes.target[-30:]\n",
    "\n",
    "model=linear_model.LinearRegression()\n",
    "model.fit(x_train,y_train)\n",
    "\n",
    "y_predicted=model.predict(x_test)\n",
    "\n",
    "print(\"Mean squared error is: \",mean_squared_error(y_test,y_predicted))\n",
    "\n",
    "print(\"weights: \",model.coef_)\n",
    "print(\"Intercepts: \",model.intercept_)\n"
   ]
  },
  {
   "cell_type": "code",
   "execution_count": null,
   "id": "d0d0d09e-2059-447c-a3e6-0a2e2172e82e",
   "metadata": {},
   "outputs": [],
   "source": [
    "import matplotlib.pyplot as plt\n",
    "\n",
    "plt.scatter(y_test, y_predicted, color='green')\n",
    "plt.plot([y_test.min(), y_test.max()], [y_test.min(), y_test.max()], color='black', linestyle='--')\n",
    "plt.xlabel(\"Actual Disease Score\")\n",
    "plt.ylabel(\"Predicted Disease Score\")\n",
    "plt.title(\"Actual vs Predicted\")\n",
    "plt.grid(True)\n",
    "plt.show()"
   ]
  },
  {
   "cell_type": "code",
   "execution_count": null,
   "id": "0c1a7f84-c701-417d-9592-dfa585f06ecf",
   "metadata": {},
   "outputs": [],
   "source": []
  }
 ],
 "metadata": {
  "kernelspec": {
   "display_name": "Python 3 (ipykernel)",
   "language": "python",
   "name": "python3"
  },
  "language_info": {
   "codemirror_mode": {
    "name": "ipython",
    "version": 3
   },
   "file_extension": ".py",
   "mimetype": "text/x-python",
   "name": "python",
   "nbconvert_exporter": "python",
   "pygments_lexer": "ipython3",
   "version": "3.12.7"
  }
 },
 "nbformat": 4,
 "nbformat_minor": 5
}
