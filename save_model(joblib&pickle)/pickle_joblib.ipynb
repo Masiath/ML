{
 "cells": [
  {
   "cell_type": "code",
   "execution_count": null,
   "id": "9b960ba3-77e8-4577-b9ae-381c4c8aafc9",
   "metadata": {},
   "outputs": [],
   "source": [
    "import pandas as pd\n",
    "import numpy as np\n",
    "from sklearn import linear_model"
   ]
  },
  {
   "cell_type": "code",
   "execution_count": null,
   "id": "9ba0436e-d06e-4e46-9684-0e5eb6cee580",
   "metadata": {},
   "outputs": [],
   "source": [
    "df=pd.read_csv(\"homeprices.csv\")\n",
    "df"
   ]
  },
  {
   "cell_type": "code",
   "execution_count": null,
   "id": "48926517-a5e3-4203-8be1-165d35593f07",
   "metadata": {},
   "outputs": [],
   "source": [
    "model=linear_model.LinearRegression()\n",
    "model.fit(df[['area']],df.price)"
   ]
  },
  {
   "cell_type": "code",
   "execution_count": null,
   "id": "3be71422-cfc4-4536-a830-013ab57ce62b",
   "metadata": {},
   "outputs": [],
   "source": [
    "model.coef_"
   ]
  },
  {
   "cell_type": "code",
   "execution_count": null,
   "id": "a2159d65-7150-4b6e-8f06-020b09c43707",
   "metadata": {},
   "outputs": [],
   "source": [
    "model.intercept_"
   ]
  },
  {
   "cell_type": "code",
   "execution_count": null,
   "id": "d6a4b7ae-c09d-4999-9276-f7265d11db95",
   "metadata": {},
   "outputs": [],
   "source": [
    "model.predict([[5000]])"
   ]
  },
  {
   "cell_type": "code",
   "execution_count": null,
   "id": "420b9f03-5b50-4dfb-a098-288fb2311b34",
   "metadata": {},
   "outputs": [],
   "source": [
    "import pickle #used for serializing and deserializing Python objects."
   ]
  },
  {
   "cell_type": "code",
   "execution_count": null,
   "id": "d934bdef-a183-4502-a9b5-6853cf0ce324",
   "metadata": {},
   "outputs": [],
   "source": [
    "with open('model_pickle','wb') as f:\n",
    "    pickle.dump(model,f)\n",
    "    \n",
    "#Opens a file named 'model_pickle' in write-binary ('wb') mode.\n",
    "#pickle.dump() saves (serializes) the data(model) into that file."
   ]
  },
  {
   "cell_type": "code",
   "execution_count": null,
   "id": "2db58f08-3d9f-43c9-b1d3-f236980a0945",
   "metadata": {},
   "outputs": [],
   "source": [
    "with open('model_pickle','rb') as f:\n",
    "    mp=pickle.load(f)\n",
    "    \n",
    " #Opens the file 'model_pickle' in read-binary ('rb') mode.\n",
    "#pickle.load(f) reads and converts the binary data back into the original Python object.   \n"
   ]
  },
  {
   "cell_type": "code",
   "execution_count": null,
   "id": "e936bcb5-0ef8-4ce6-a47c-eb1dd6552f2f",
   "metadata": {},
   "outputs": [],
   "source": [
    "mp.predict([[5000]])"
   ]
  },
  {
   "cell_type": "code",
   "execution_count": null,
   "id": "c4794deb-56a7-4479-a50f-f68582b4ea9e",
   "metadata": {},
   "outputs": [],
   "source": [
    "import joblib"
   ]
  },
  {
   "cell_type": "code",
   "execution_count": null,
   "id": "66860259-26f2-432f-8f77-1af85ede5eb5",
   "metadata": {},
   "outputs": [],
   "source": [
    "joblib.dump(model,'model_joblib')\n",
    "#Saves (serializes) the trained machine learning model to a file named model_joblib."
   ]
  },
  {
   "cell_type": "code",
   "execution_count": null,
   "id": "df1e2aab-36f9-4646-a267-3d11b29fe8e0",
   "metadata": {},
   "outputs": [],
   "source": [
    "mj=joblib.load('model_joblib')"
   ]
  },
  {
   "cell_type": "code",
   "execution_count": null,
   "id": "67c73bc5-7e94-4290-9bdf-4472de6db5a1",
   "metadata": {},
   "outputs": [],
   "source": [
    "mj.predict([[5000]])"
   ]
  },
  {
   "cell_type": "code",
   "execution_count": null,
   "id": "5852cc67-57bf-4d73-9816-cd383c51e979",
   "metadata": {},
   "outputs": [],
   "source": [
    "mj.coef_"
   ]
  },
  {
   "cell_type": "code",
   "execution_count": null,
   "id": "8d63e3b5-3946-4680-84c4-bb8882c6485e",
   "metadata": {},
   "outputs": [],
   "source": []
  }
 ],
 "metadata": {
  "kernelspec": {
   "display_name": "Python 3 (ipykernel)",
   "language": "python",
   "name": "python3"
  },
  "language_info": {
   "codemirror_mode": {
    "name": "ipython",
    "version": 3
   },
   "file_extension": ".py",
   "mimetype": "text/x-python",
   "name": "python",
   "nbconvert_exporter": "python",
   "pygments_lexer": "ipython3",
   "version": "3.12.7"
  }
 },
 "nbformat": 4,
 "nbformat_minor": 5
}
