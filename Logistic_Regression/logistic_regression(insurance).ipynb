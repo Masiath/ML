{
 "cells": [
  {
   "cell_type": "code",
   "execution_count": null,
   "id": "c79f9bf4-cfcd-4d89-9a81-fe7a1d697370",
   "metadata": {},
   "outputs": [],
   "source": [
    "import pandas as pd\n",
    "from matplotlib import pyplot as plt\n",
    "%matplotlib inline"
   ]
  },
  {
   "cell_type": "code",
   "execution_count": null,
   "id": "47ef5a30-e2d1-43be-906f-46b413410e14",
   "metadata": {},
   "outputs": [],
   "source": [
    "df=pd.read_csv(\"insurance_data.csv\")\n",
    "df"
   ]
  },
  {
   "cell_type": "code",
   "execution_count": null,
   "id": "e9635132-f630-4a3b-a397-ca103d823247",
   "metadata": {},
   "outputs": [],
   "source": [
    "df.head()"
   ]
  },
  {
   "cell_type": "code",
   "execution_count": null,
   "id": "e79526a7-b7fb-4b76-a386-34b6d3ab4a31",
   "metadata": {},
   "outputs": [],
   "source": [
    "plt.scatter(df.age,df.bought_insurance,marker='+',color='red')\n",
    "plt.xlabel(\"Age\")\n",
    "plt.ylabel(\"Bought Insurance (0 = No, 1 = Yes)\")\n",
    "plt.title(\"Age vs Insurance Purchase\")\n",
    "plt.show()"
   ]
  },
  {
   "cell_type": "code",
   "execution_count": null,
   "id": "b41d843d-9cbc-449a-add0-589b40a718e1",
   "metadata": {},
   "outputs": [],
   "source": [
    "df.shape"
   ]
  },
  {
   "cell_type": "code",
   "execution_count": null,
   "id": "ef74823e-32e1-4de0-837e-9961c02dc622",
   "metadata": {},
   "outputs": [],
   "source": [
    "from sklearn.model_selection import train_test_split "
   ]
  },
  {
   "cell_type": "code",
   "execution_count": null,
   "id": "a5f61729-7742-4bf5-a9f0-a2a640bebb99",
   "metadata": {},
   "outputs": [],
   "source": [
    "X_train, X_test, y_train, y_test=train_test_split(df[['age']],df.bought_insurance,train_size=0.9)"
   ]
  },
  {
   "cell_type": "code",
   "execution_count": null,
   "id": "f83f9c77-cabb-48f2-a8f2-38f61efcc5b2",
   "metadata": {},
   "outputs": [],
   "source": [
    "X_test"
   ]
  },
  {
   "cell_type": "code",
   "execution_count": null,
   "id": "6dea292a-853f-4191-a145-c75ea6d17fb1",
   "metadata": {},
   "outputs": [],
   "source": [
    "y_test"
   ]
  },
  {
   "cell_type": "code",
   "execution_count": null,
   "id": "99ed59ab-196b-415a-acbf-fbd721aa4e52",
   "metadata": {},
   "outputs": [],
   "source": [
    "X_train"
   ]
  },
  {
   "cell_type": "code",
   "execution_count": null,
   "id": "4ad7838b-023b-490f-b390-5e83eab7bb21",
   "metadata": {},
   "outputs": [],
   "source": [
    "from sklearn.linear_model import LogisticRegression"
   ]
  },
  {
   "cell_type": "code",
   "execution_count": null,
   "id": "8b64d4be-19ef-466e-ba31-8575db6ccb75",
   "metadata": {},
   "outputs": [],
   "source": [
    "model= LogisticRegression()"
   ]
  },
  {
   "cell_type": "code",
   "execution_count": null,
   "id": "8030baaf-e0c5-4bbe-a302-6c819bbbc824",
   "metadata": {},
   "outputs": [],
   "source": [
    "model.fit(X_train,y_train)"
   ]
  },
  {
   "cell_type": "code",
   "execution_count": null,
   "id": "d4a91be6-ac2a-4ce0-b021-b6af1217ac0a",
   "metadata": {},
   "outputs": [],
   "source": [
    "y_predicted=model.predict(X_test)\n",
    "y_predicted"
   ]
  },
  {
   "cell_type": "code",
   "execution_count": null,
   "id": "7221d2e9-4794-499d-9794-035b72ce9ddb",
   "metadata": {},
   "outputs": [],
   "source": [
    "model.score(X_test,y_test)"
   ]
  },
  {
   "cell_type": "code",
   "execution_count": null,
   "id": "f582deea-7ee1-46c9-b051-704b858f801d",
   "metadata": {},
   "outputs": [],
   "source": [
    "model.predict_proba(X_test)"
   ]
  },
  {
   "cell_type": "code",
   "execution_count": null,
   "id": "90f5f964-df40-4f3f-a323-984bf49e175b",
   "metadata": {},
   "outputs": [],
   "source": [
    "model.predict([[25]])"
   ]
  },
  {
   "cell_type": "code",
   "execution_count": null,
   "id": "60dbf8c4-a7c6-48f1-a25e-85929d37a1c0",
   "metadata": {},
   "outputs": [],
   "source": [
    "import numpy as np"
   ]
  },
  {
   "cell_type": "code",
   "execution_count": null,
   "id": "27177e32-6614-4144-a25e-6ee04938d789",
   "metadata": {},
   "outputs": [],
   "source": [
    "age_range = np.linspace(df.age.min(), df.age.max(), 300)\n",
    "age_range_reshaped = age_range.reshape(-1, 1)\n",
    "\n",
    "#np.linspace(start, stop, num)\n",
    "#Generates num evenly spaced values between start and stop.\n",
    "#✅ Used here to create smooth age values for plotting the sigmoid curve.\n",
    "\n",
    "#.reshape(-1, 1)\n",
    "#Converts a 1D array into a 2D column vector (required for model input).\n",
    "#✅ Ensures the shape is compatible with predict_proba()."
   ]
  },
  {
   "cell_type": "code",
   "execution_count": null,
   "id": "74e85be2-070a-4190-aaad-00bcd6b66605",
   "metadata": {},
   "outputs": [],
   "source": [
    "probabilities = model.predict_proba(age_range_reshaped)[:, 1]\n"
   ]
  },
  {
   "cell_type": "code",
   "execution_count": null,
   "id": "38138a2f-9a84-4e51-a7d0-977b4f17f7c0",
   "metadata": {},
   "outputs": [],
   "source": [
    "plt.plot(age_range, probabilities, color='blue', label='Sigmoid Curve')\n",
    "plt.xlabel(\"Age\")\n",
    "plt.ylabel(\"Probability of Buying Insurance\")\n",
    "plt.title(\"Logistic Regression Sigmoid Curve\")\n",
    "plt.legend()\n",
    "plt.grid(True)\n",
    "plt.show()"
   ]
  },
  {
   "cell_type": "code",
   "execution_count": null,
   "id": "28101777-0aee-41b5-9d93-8aaddf5ef46a",
   "metadata": {},
   "outputs": [],
   "source": [
    "y_pred = model.predict(X_test)\n",
    "\n",
    "# Plot actual values\n",
    "plt.scatter(X_test,y_test,marker='+',color='red')\n",
    "\n",
    "# Plot predicted values\n",
    "plt.scatter(X_test, y_pred, color='blue', label='Predicted', marker='o')\n",
    "\n",
    "# Labels and legend\n",
    "plt.xlabel(\"Age\")\n",
    "plt.ylabel(\"Bought Insurance (0 = No, 1 = Yes)\")\n",
    "plt.title(\"Actual vs Predicted (Test Set)\")\n",
    "plt.legend()\n",
    "plt.grid(True)\n",
    "plt.show()"
   ]
  },
  {
   "cell_type": "code",
   "execution_count": null,
   "id": "daab0ac3-9cea-43cb-8fc8-57957bdc222c",
   "metadata": {},
   "outputs": [],
   "source": []
  }
 ],
 "metadata": {
  "kernelspec": {
   "display_name": "Python 3 (ipykernel)",
   "language": "python",
   "name": "python3"
  },
  "language_info": {
   "codemirror_mode": {
    "name": "ipython",
    "version": 3
   },
   "file_extension": ".py",
   "mimetype": "text/x-python",
   "name": "python",
   "nbconvert_exporter": "python",
   "pygments_lexer": "ipython3",
   "version": "3.12.7"
  }
 },
 "nbformat": 4,
 "nbformat_minor": 5
}
