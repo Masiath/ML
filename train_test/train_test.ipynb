{
 "cells": [
  {
   "cell_type": "code",
   "execution_count": null,
   "id": "4edd1ded-5e8e-414a-8b22-317f37f3dac3",
   "metadata": {},
   "outputs": [],
   "source": [
    "import pandas as pd\n",
    "df=pd.read_csv(\"carprices.csv\")\n",
    "df"
   ]
  },
  {
   "cell_type": "code",
   "execution_count": null,
   "id": "4b7b98f3-376d-4361-ae71-69fd6811b465",
   "metadata": {},
   "outputs": [],
   "source": [
    "df.head()"
   ]
  },
  {
   "cell_type": "code",
   "execution_count": null,
   "id": "4faea8b0-082d-4dd8-8ff9-beaef213cefe",
   "metadata": {},
   "outputs": [],
   "source": [
    "import matplotlib.pyplot as plt \n",
    "%matplotlib inline"
   ]
  },
  {
   "cell_type": "code",
   "execution_count": null,
   "id": "0871812b-a74f-4185-8804-d07065f7d90a",
   "metadata": {},
   "outputs": [],
   "source": [
    "plt.scatter(df['Mileage'],df['Sell Price($)'])\n",
    "plt.xlabel('Mileage')\n",
    "plt.ylabel('Sell Price($)')\n",
    "plt.title('Mileage vs Sell Price($)')\n",
    "plt.show()"
   ]
  },
  {
   "cell_type": "code",
   "execution_count": null,
   "id": "32c53f30-9bac-4544-a22c-2a22dbe292f0",
   "metadata": {},
   "outputs": [],
   "source": [
    "plt.scatter(df['Age(yrs)'],df['Sell Price($)'])\n",
    "plt.xlabel('Age(yrs)')\n",
    "plt.ylabel('Sell Price($)')\n",
    "plt.title('Age(yrs) vs Sell Price($)')\n",
    "plt.show()\n",
    "plt.show()"
   ]
  },
  {
   "cell_type": "code",
   "execution_count": null,
   "id": "04128b19-e338-4d14-8b6b-8a8de577d258",
   "metadata": {},
   "outputs": [],
   "source": [
    "X=df[['Mileage','Age(yrs)']]\n",
    "Y=df['Sell Price($)']"
   ]
  },
  {
   "cell_type": "code",
   "execution_count": null,
   "id": "7381c2fe-50ed-4c8f-a792-3d3592ab19e3",
   "metadata": {},
   "outputs": [],
   "source": [
    "X"
   ]
  },
  {
   "cell_type": "code",
   "execution_count": null,
   "id": "ec08c549-8acd-41af-bd3c-19f8a9732fc8",
   "metadata": {},
   "outputs": [],
   "source": [
    "Y"
   ]
  },
  {
   "cell_type": "code",
   "execution_count": null,
   "id": "3a60cfae-fed1-4bcd-a302-31f409400af9",
   "metadata": {},
   "outputs": [],
   "source": [
    "from sklearn.model_selection import train_test_split"
   ]
  },
  {
   "cell_type": "code",
   "execution_count": null,
   "id": "460bb384-9e80-483b-a9e8-0ba6811f006e",
   "metadata": {},
   "outputs": [],
   "source": [
    "X_train, X_test, Y_train, Y_test = train_test_split(X,Y,test_size=0.2) "
   ]
  },
  {
   "cell_type": "code",
   "execution_count": null,
   "id": "c37c2f42-d36d-4ca7-98e7-044e17af9133",
   "metadata": {},
   "outputs": [],
   "source": [
    "X_train"
   ]
  },
  {
   "cell_type": "code",
   "execution_count": null,
   "id": "ebe80254-8fcb-4fe6-94f9-c26196338312",
   "metadata": {},
   "outputs": [],
   "source": [
    "X_test"
   ]
  },
  {
   "cell_type": "code",
   "execution_count": null,
   "id": "297a3ad8-a261-47b7-b1aa-303497425e76",
   "metadata": {},
   "outputs": [],
   "source": [
    "Y_train"
   ]
  },
  {
   "cell_type": "code",
   "execution_count": null,
   "id": "958fa7de-ec62-4ea7-b97e-aa6c1f65cce7",
   "metadata": {},
   "outputs": [],
   "source": [
    "Y_test"
   ]
  },
  {
   "cell_type": "code",
   "execution_count": null,
   "id": "13fafebf-f894-4c66-87bd-ccba810f4f3d",
   "metadata": {},
   "outputs": [],
   "source": [
    "from sklearn.linear_model import LinearRegression\n",
    "clf=LinearRegression()"
   ]
  },
  {
   "cell_type": "code",
   "execution_count": null,
   "id": "c188c63f-258c-4946-8882-cba4381aea06",
   "metadata": {},
   "outputs": [],
   "source": [
    "clf.fit(X_train,Y_train)"
   ]
  },
  {
   "cell_type": "code",
   "execution_count": null,
   "id": "956e9d70-5507-4b70-8a70-d7e200e24ec2",
   "metadata": {},
   "outputs": [],
   "source": [
    "Y_pred=clf.predict(X_test)"
   ]
  },
  {
   "cell_type": "code",
   "execution_count": null,
   "id": "c713782a-65df-4916-a70f-f5a7115ab26b",
   "metadata": {},
   "outputs": [],
   "source": [
    "Y_test"
   ]
  },
  {
   "cell_type": "code",
   "execution_count": null,
   "id": "ea0dcfc6-5364-4c6f-bb61-3be73b5754e3",
   "metadata": {},
   "outputs": [],
   "source": [
    "clf.score(X_test,Y_test)"
   ]
  },
  {
   "cell_type": "code",
   "execution_count": null,
   "id": "86a242cd-059d-46ed-9564-a527734a8ad8",
   "metadata": {},
   "outputs": [],
   "source": [
    "plt.scatter(Y_test, Y_pred, color='blue',label='Predicted vs Actual')       # Plot actual vs predicted\n",
    "plt.plot([Y_test.min(), Y_test.max()],          # Reference line (perfect prediction)\n",
    "         [Y_test.min(), Y_test.max()], \n",
    "         color='red', linewidth=2,label='Perfect Prediction Line')\n",
    "\n",
    "plt.xlabel(\"Actual Price\")\n",
    "plt.ylabel(\"Predicted Price\")\n",
    "plt.title(\"Actual vs Predicted Car Prices\")\n",
    "plt.legend() \n",
    "plt.grid(True)\n",
    "plt.show()"
   ]
  },
  {
   "cell_type": "code",
   "execution_count": null,
   "id": "5e85f0ca-791f-4b34-91fb-4350c06ab761",
   "metadata": {},
   "outputs": [],
   "source": []
  }
 ],
 "metadata": {
  "kernelspec": {
   "display_name": "Python 3 (ipykernel)",
   "language": "python",
   "name": "python3"
  },
  "language_info": {
   "codemirror_mode": {
    "name": "ipython",
    "version": 3
   },
   "file_extension": ".py",
   "mimetype": "text/x-python",
   "name": "python",
   "nbconvert_exporter": "python",
   "pygments_lexer": "ipython3",
   "version": "3.12.7"
  }
 },
 "nbformat": 4,
 "nbformat_minor": 5
}
